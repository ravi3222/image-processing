{
 "cells": [
  {
   "cell_type": "code",
   "execution_count": 3,
   "metadata": {},
   "outputs": [
    {
     "data": {
      "text/plain": [
       "-1"
      ]
     },
     "execution_count": 3,
     "metadata": {},
     "output_type": "execute_result"
    }
   ],
   "source": [
    "import cv2\n",
    "import numpy as np\n",
    "import imutils\n",
    "\n",
    "img = cv2.imread('data/9F.jpg')\n",
    "img = imutils.resize(img, width = 400)\n",
    "cv2.imshow(\"Original image\", img)  \n",
    "img_float = np.float32(img)  # Convert image from unsigned 8 bit to 32 bit float\n",
    "criteria = (cv2.TERM_CRITERIA_EPS+cv2.TERM_CRITERIA_MAX_ITER, 10, 1)\n",
    "\n",
    "# Defining the criteria ( type, max_iter, epsilon )\n",
    "# cv2.TERM_CRITERIA_EPS - stop the algorithm iteration if specified accuracy, epsilon, is reached.\n",
    "# cv2.TERM_CRITERIA_MAX_ITER - stop the algorithm after the specified number of iterations, max_iter.\n",
    "# cv2.TERM_CRITERIA_EPS + cv2.TERM_CRITERIA_MAX_ITER - stop the iteration when any of the above condition is met.\n",
    "# max_iter - An integer specifying maximum number of iterations.In this case it is 10\n",
    "# epsilon - Required accuracy.In this case it is 1\n",
    "\n",
    "k = 50  # Number of clusters\n",
    "ret, label, centers = cv2.kmeans(img_float, k, None, criteria, 50, cv2.KMEANS_RANDOM_CENTERS)\n",
    "center = np.uint8(centers)\n",
    "res = center[label.flatten()]                         \n",
    "res2 = res.reshape(img.shape)\n",
    "cv2.imshow(\"K Means\", res2)\n",
    "#cv2.imwrite(\"1.jpg\", res2)\n",
    "\n",
    "meanshift = cv2.pyrMeanShiftFiltering(img, sp=8, sr=16, maxLevel=1, termcrit=(cv2.TERM_CRITERIA_EPS+cv2.TERM_CRITERIA_MAX_ITER, 5, 1))\n",
    "cv2.imshow(\"Output of meanshift\", meanshift)\n",
    "#cv2.imwrite(\"2.jpg\", meanshift)\n",
    "\n",
    "gray = cv2.cvtColor(img, cv2.COLOR_BGR2GRAY)\n",
    "ret, thresh = cv2.threshold(gray, 0, 255, cv2.THRESH_BINARY+cv2.THRESH_OTSU)\n",
    "fg = cv2.erode(thresh, None, iterations=1)\n",
    "bgt = cv2.dilate(thresh, None, iterations=1)\n",
    "ret, bg = cv2.threshold(bgt, 1, 128, 1)\n",
    "\n",
    "marker = cv2.add(fg, bg)\n",
    "canny = cv2.Canny(marker, 110, 150)\n",
    "new, contours, hierarchy = cv2.findContours(canny, cv2.RETR_EXTERNAL, cv2.CHAIN_APPROX_NONE)\n",
    "\n",
    "marker32 = np.int32(marker)\n",
    "cv2.watershed(img,marker32)\n",
    "m = cv2.convertScaleAbs(marker32)\n",
    "ret, thresh = cv2.threshold(m, 0, 255, cv2.THRESH_BINARY+cv2.THRESH_OTSU)\n",
    "\n",
    "thresh_inv = cv2.bitwise_not(thresh)\n",
    "res = cv2.bitwise_and(img, img, mask=thresh)\n",
    "res3 = cv2.bitwise_and(img, img, mask=thresh_inv)\n",
    "res4 = cv2.addWeighted(res, 1, res3, 1, 0)\n",
    "final = cv2.drawContours(res4, contours, -1, (0, 255, 0), 1)\n",
    "\n",
    "cv2.imshow(\"Watershed\", final)\n",
    "cv2.waitKey()"
   ]
  },
  {
   "cell_type": "code",
   "execution_count": null,
   "metadata": {},
   "outputs": [],
   "source": []
  }
 ],
 "metadata": {
  "kernelspec": {
   "display_name": "Python 3",
   "language": "python",
   "name": "python3"
  },
  "language_info": {
   "codemirror_mode": {
    "name": "ipython",
    "version": 3
   },
   "file_extension": ".py",
   "mimetype": "text/x-python",
   "name": "python",
   "nbconvert_exporter": "python",
   "pygments_lexer": "ipython3",
   "version": "3.6.6"
  }
 },
 "nbformat": 4,
 "nbformat_minor": 2
}
