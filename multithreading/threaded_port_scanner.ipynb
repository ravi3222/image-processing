{
 "cells": [
  {
   "cell_type": "code",
   "execution_count": 2,
   "metadata": {},
   "outputs": [
    {
     "name": "stderr",
     "output_type": "stream",
     "text": [
      "usage: ipykernel_launcher.py [-h] -i IP [-s]\n",
      "ipykernel_launcher.py: error: the following arguments are required: -i/--ip\n"
     ]
    },
    {
     "ename": "SystemExit",
     "evalue": "2",
     "output_type": "error",
     "traceback": [
      "An exception has occurred, use %tb to see the full traceback.\n",
      "\u001b[1;31mSystemExit\u001b[0m\u001b[1;31m:\u001b[0m 2\n"
     ]
    },
    {
     "name": "stderr",
     "output_type": "stream",
     "text": [
      "C:\\Users\\Ravi\\Anaconda3\\lib\\site-packages\\IPython\\core\\interactiveshell.py:2969: UserWarning: To exit: use 'exit', 'quit', or Ctrl-D.\n",
      "  warn(\"To exit: use 'exit', 'quit', or Ctrl-D.\", stacklevel=1)\n"
     ]
    }
   ],
   "source": [
    "import socket\n",
    "from threading import Thread\n",
    "from argparse import ArgumentParser\n",
    "\n",
    "\n",
    "class PortScanner:\n",
    "    def __init__(self, target_ip, show):\n",
    "        self.show_ranges = show\n",
    "        self.target_ip = target_ip\n",
    "        self.port_ranges = {}\n",
    "        r = 0\n",
    "        for i in range(256):\n",
    "            n = r + 256\n",
    "            self.port_ranges[str(i)] = (r, n)\n",
    "            r = n\n",
    "\n",
    "    def scan(self, begin, end):\n",
    "        if self.show_ranges:\n",
    "            message = \"scanning range: %d - %d\" % (begin, end)\n",
    "            print(message)\n",
    "        for port in range(begin, end):\n",
    "            s = socket.socket(socket.AF_INET, socket.SOCK_STREAM)\n",
    "            try:\n",
    "                status = s.connect_ex((self.target_ip, port))\n",
    "            except Exception:\n",
    "                continue\n",
    "            finally:\n",
    "                s.close()\n",
    "            if status != 0:\n",
    "                continue\n",
    "            try:\n",
    "                service = socket.getservbyport(port)\n",
    "            except Exception:\n",
    "                service = \"unknown\"\n",
    "            print(\"SERVICE: %-15s\\tPORT: %-8d\" % (service, port))\n",
    "\n",
    "    def run(self):\n",
    "        threads = []\n",
    "        for th, ranges in self.port_ranges.items():\n",
    "            t = Thread(target=self.scan, args=(ranges[0], ranges[1]))\n",
    "            t.start()\n",
    "            threads.append(t)\n",
    "        for thread in threads:\n",
    "            thread.join()\n",
    "\n",
    "\n",
    "if __name__ == '__main__':\n",
    "    description = 'Usage: python threaded_port_scanner.py -i <IP address> '\n",
    "    description += '-s (optional flag - show Port Ranges)'\n",
    "    parser = ArgumentParser(description=description)\n",
    "    parser.add_argument('-i', '--ip', required=True, help='IP address')\n",
    "    parser.add_argument('-s', '--show', help='see ranges', action='store_true')\n",
    "    args_in = parser.parse_args()\n",
    "    ps = PortScanner(args_in.ip, args_in.show)\n",
    "    ps.run()"
   ]
  },
  {
   "cell_type": "code",
   "execution_count": null,
   "metadata": {},
   "outputs": [],
   "source": []
  }
 ],
 "metadata": {
  "kernelspec": {
   "display_name": "Python 3",
   "language": "python",
   "name": "python3"
  },
  "language_info": {
   "codemirror_mode": {
    "name": "ipython",
    "version": 3
   },
   "file_extension": ".py",
   "mimetype": "text/x-python",
   "name": "python",
   "nbconvert_exporter": "python",
   "pygments_lexer": "ipython3",
   "version": "3.6.6"
  }
 },
 "nbformat": 4,
 "nbformat_minor": 2
}
