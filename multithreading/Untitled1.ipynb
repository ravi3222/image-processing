{
 "cells": [
  {
   "cell_type": "code",
   "execution_count": 27,
   "metadata": {},
   "outputs": [
    {
     "name": "stdout",
     "output_type": "stream",
     "text": [
      "7\n",
      "7\n",
      "\n",
      "T1 time:  0.00799107551574707\n",
      "T2 time:  0.004998207092285156\n"
     ]
    }
   ],
   "source": [
    "import threading\n",
    "from time import time \n",
    "\n",
    "def calc_power(base, power):\n",
    "    print(base**power)\n",
    "\n",
    "if __name__ == '__main__':\n",
    "    number = 7\n",
    "    thread1 = threading.Thread(target=calc_power, args=(number, 1))\n",
    "    thread2 = threading.Thread(target=calc_power, args=(number, 1))\n",
    "    s = time()\n",
    "    thread1.start()\n",
    "    t1 = time()\n",
    "    thread2.start()\n",
    "    t2 = time()\n",
    "    \n",
    "    print(\"\\nT1 time: \",t1-s)\n",
    "    print(\"T2 time: \",t2-t1)\n",
    "    thread1.join()\n",
    "    thread2.join()"
   ]
  },
  {
   "cell_type": "code",
   "execution_count": 28,
   "metadata": {},
   "outputs": [
    {
     "name": "stdout",
     "output_type": "stream",
     "text": [
      "0\n",
      "1\n",
      "2\n",
      "3\n",
      "4\n",
      "5\n",
      "6\n",
      "7\n",
      "8\n",
      "9\n",
      "00\n",
      "1\n",
      "2\n",
      "3\n",
      "4\n",
      "5\n",
      "6\n",
      "7\n",
      "8\n",
      "9\n",
      "\n",
      "1\n",
      "2\n",
      "3\n",
      "4\n",
      "5\n",
      "6\n",
      "7\n",
      "8\n",
      "9\n"
     ]
    }
   ],
   "source": [
    "import threading \n",
    "\n",
    "class Worker(threading.Thread):\n",
    "    def __init__(self):\n",
    "        super(Worker, self).__init__()\n",
    "\n",
    "    def run(self):\n",
    "        for i in range(10):\n",
    "            print(i)\n",
    "\n",
    "if __name__ == '__main__':\n",
    "    thread1 = Worker()\n",
    "    thread2 = Worker()\n",
    "    thread3 = Worker()\n",
    "    thread1.start()\n",
    "    thread2.start()\n",
    "    thread3.start()"
   ]
  },
  {
   "cell_type": "code",
   "execution_count": null,
   "metadata": {},
   "outputs": [],
   "source": []
  }
 ],
 "metadata": {
  "kernelspec": {
   "display_name": "Python 3",
   "language": "python",
   "name": "python3"
  },
  "language_info": {
   "codemirror_mode": {
    "name": "ipython",
    "version": 3
   },
   "file_extension": ".py",
   "mimetype": "text/x-python",
   "name": "python",
   "nbconvert_exporter": "python",
   "pygments_lexer": "ipython3",
   "version": "3.6.6"
  }
 },
 "nbformat": 4,
 "nbformat_minor": 2
}
