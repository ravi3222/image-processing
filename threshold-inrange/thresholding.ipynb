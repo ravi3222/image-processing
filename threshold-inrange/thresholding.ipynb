{
 "cells": [
  {
   "cell_type": "code",
   "execution_count": 2,
   "metadata": {},
   "outputs": [],
   "source": [
    "import cv2\n",
    "import numpy as np\n",
    "\n",
    "## Read\n",
    "img = cv2.imread(\"sunflower.jpg\")\n",
    "\n",
    "## convert to hsv\n",
    "hsv = cv2.cvtColor(img, cv2.COLOR_BGR2HSV)\n",
    "\n",
    "## mask of green (36,25,25) ~ (86, 255,255)\n",
    "# mask = cv2.inRange(hsv, (36, 25, 25), (86, 255,255))\n",
    "mask = cv2.inRange(hsv, (36, 25, 25), (70, 255,255))\n",
    "# mask = cv2.inRange(hsv, (10, 100, 20), (25, 255,255))\n",
    "\n",
    "\n",
    "## slice the green\n",
    "imask = mask>0\n",
    "green = np.zeros_like(img, np.uint8)\n",
    "green[imask] = img[imask]\n",
    "\n",
    "## save \n",
    "cv2.imwrite(\"green.png\", green)\n",
    "cv2.imshow('green region',green)\n",
    "cv2.waitKey(0)\n",
    "cv2.destroyAllWindows()"
   ]
  },
  {
   "cell_type": "markdown",
   "metadata": {},
   "source": [
    "##### To find the HSV value of Green,"
   ]
  },
  {
   "cell_type": "code",
   "execution_count": 53,
   "metadata": {},
   "outputs": [
    {
     "name": "stdout",
     "output_type": "stream",
     "text": [
      "[[[ 60 255 255]]]\n"
     ]
    }
   ],
   "source": [
    "green = np.uint8([[[0,255,0 ]]])\n",
    "hsv_green = cv2.cvtColor(green,cv2.COLOR_BGR2HSV)\n",
    "print(hsv_green)"
   ]
  }
 ],
 "metadata": {
  "kernelspec": {
   "display_name": "Python 3",
   "language": "python",
   "name": "python3"
  },
  "language_info": {
   "codemirror_mode": {
    "name": "ipython",
    "version": 3
   },
   "file_extension": ".py",
   "mimetype": "text/x-python",
   "name": "python",
   "nbconvert_exporter": "python",
   "pygments_lexer": "ipython3",
   "version": "3.6.6"
  }
 },
 "nbformat": 4,
 "nbformat_minor": 2
}
