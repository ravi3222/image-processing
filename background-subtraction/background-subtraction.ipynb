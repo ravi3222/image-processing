{
 "cells": [
  {
   "cell_type": "code",
   "execution_count": 8,
   "metadata": {},
   "outputs": [],
   "source": [
    "import cv2\n",
    "import numpy as np\n",
    "cap = cv2.VideoCapture('F:/image-processing/background-subtraction/highway.mp4')\n",
    "_, first_frame = cap.read()\n",
    "#first_frame = cv2.cvtColor(first_frame,cv2.COLOR_BGR2YCrCb)\n",
    "first_gray = cv2.cvtColor(first_frame, cv2.COLOR_BGR2GRAY)\n",
    "first_gray = cv2.GaussianBlur(first_gray, (5, 5), 0)\n",
    "while True:\n",
    "    _, frame = cap.read()\n",
    "    gray_frame = cv2.cvtColor(frame, cv2.COLOR_BGR2GRAY)\n",
    "    gray_frame = cv2.GaussianBlur(gray_frame, (5, 5), 0)\n",
    "    difference = cv2.absdiff(first_gray, gray_frame)\n",
    "    _, difference = cv2.threshold(difference, 25, 255, cv2.THRESH_BINARY_INV)\n",
    "    cv2.imshow(\"First frame\", first_frame)\n",
    "    cv2.imshow(\"Frame\", frame)\n",
    "    cv2.imshow(\"difference\", difference)\n",
    "    key = cv2.waitKey(30)\n",
    "    if key == 27:\n",
    "        break\n",
    "cap.release()\n",
    "cv2.destroyAllWindows()"
   ]
  },
  {
   "cell_type": "markdown",
   "metadata": {},
   "source": [
    "## MOG2"
   ]
  },
  {
   "cell_type": "code",
   "execution_count": 24,
   "metadata": {},
   "outputs": [],
   "source": [
    "import cv2\n",
    "import numpy as np\n",
    "cap = cv2.VideoCapture('F:/image-processing/background-subtraction/highway.mp4')\n",
    "subtractor = cv2.createBackgroundSubtractorMOG2(history=20, varThreshold=25, detectShadows=True)\n",
    "subtractor2 = cv2.createBackgroundSubtractorKNN(history=20, detectShadows=True)\n",
    "while True:\n",
    "    _, frame = cap.read()\n",
    "    #cv2.addWeighted(frame,2,frame)\n",
    "    cv2.medianBlur(frame,5)\n",
    "    mask = subtractor.apply(frame.copy())\n",
    "    mask2 = subtractor2.apply(frame)\n",
    "    cv2.imshow(\"Frame\", frame)\n",
    "    cv2.imshow(\"mask\", mask)\n",
    "    cv2.imshow(\"mask2\", mask2)\n",
    "    key = cv2.waitKey(30)\n",
    "    if key == 27:\n",
    "        break\n",
    "cap.release()\n",
    "cv2.destroyAllWindows()"
   ]
  },
  {
   "cell_type": "code",
   "execution_count": null,
   "metadata": {},
   "outputs": [],
   "source": []
  }
 ],
 "metadata": {
  "kernelspec": {
   "display_name": "Python 3",
   "language": "python",
   "name": "python3"
  },
  "language_info": {
   "codemirror_mode": {
    "name": "ipython",
    "version": 3
   },
   "file_extension": ".py",
   "mimetype": "text/x-python",
   "name": "python",
   "nbconvert_exporter": "python",
   "pygments_lexer": "ipython3",
   "version": "3.6.6"
  }
 },
 "nbformat": 4,
 "nbformat_minor": 2
}
