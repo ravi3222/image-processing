{
 "cells": [
  {
   "cell_type": "code",
   "execution_count": 1,
   "metadata": {},
   "outputs": [
    {
     "name": "stdout",
     "output_type": "stream",
     "text": [
      "result is:  0\n"
     ]
    }
   ],
   "source": [
    "import multiprocessing \n",
    "\n",
    "def calc_power(base, power):\n",
    "    print('Number: ', base)\n",
    "    result = base**power\n",
    "    print('Result: ', result)\n",
    "\n",
    "if __name__ == '__main__':\n",
    "    result = 0\n",
    "    p1 = multiprocessing.Process(target=calc_power, args=(7, 2))\n",
    "    p2 = multiprocessing.Process(target=calc_power, args=(11, 4))\n",
    "\n",
    "    p1.start()\n",
    "    p2.start()\n",
    "\n",
    "    p1.join()\n",
    "    p2.join()\n",
    "\n",
    "    print('result is: ', result)"
   ]
  },
  {
   "cell_type": "code",
   "execution_count": null,
   "metadata": {},
   "outputs": [],
   "source": []
  }
 ],
 "metadata": {
  "kernelspec": {
   "display_name": "Python 3",
   "language": "python",
   "name": "python3"
  },
  "language_info": {
   "codemirror_mode": {
    "name": "ipython",
    "version": 3
   },
   "file_extension": ".py",
   "mimetype": "text/x-python",
   "name": "python",
   "nbconvert_exporter": "python",
   "pygments_lexer": "ipython3",
   "version": "3.6.6"
  }
 },
 "nbformat": 4,
 "nbformat_minor": 2
}
