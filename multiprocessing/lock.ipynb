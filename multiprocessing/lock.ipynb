{
 "cells": [
  {
   "cell_type": "code",
   "execution_count": 2,
   "metadata": {},
   "outputs": [
    {
     "name": "stdout",
     "output_type": "stream",
     "text": [
      "After transactions:  200\n",
      "After transactions:  200\n"
     ]
    }
   ],
   "source": [
    "import time \n",
    "import multiprocessing \n",
    "\n",
    "def deposit(balance):\n",
    "    for i in range(100):\n",
    "        time.sleep(0.01)\n",
    "        balance.value = balance.value + 1\n",
    "\n",
    "\n",
    "def withdraw(balance):\n",
    "    for i in range(100):\n",
    "        time.sleep(0.01)\n",
    "        balance.value = balance.value - 1\n",
    "\n",
    "def problem():\n",
    "    balance = multiprocessing.Value('i', 200)\n",
    "    d = multiprocessing.Process(target=deposit, args=(balance, ))\n",
    "    w = multiprocessing.Process(target=withdraw, args=(balance, ))\n",
    "\n",
    "    d.start()\n",
    "    w.start()\n",
    "\n",
    "    d.join()\n",
    "    w.join()\n",
    "    # it should print 200 but it does not\n",
    "    print(\"After transactions: \", balance.value)\n",
    "\n",
    "\n",
    "def deposit_solution(balance, lock):\n",
    "    for i in range(100):\n",
    "        time.sleep(0.01)\n",
    "        lock.acquire()\n",
    "        balance.value = balance.value + 1\n",
    "        lock.release()\n",
    "\n",
    "\n",
    "def withdraw_solution(balance, lock):\n",
    "    for i in range(100):\n",
    "        time.sleep(0.01)\n",
    "        lock.acquire()\n",
    "        balance.value = balance.value - 1\n",
    "        lock.release()\n",
    "\n",
    "\n",
    "def solution():\n",
    "    balance = multiprocessing.Value('i', 200)\n",
    "    lock = multiprocessing.Lock()\n",
    "    d = multiprocessing.Process(target=deposit_solution, args=(balance, lock))\n",
    "    w = multiprocessing.Process(target=withdraw_solution, args=(balance, lock))\n",
    "\n",
    "    d.start()\n",
    "    w.start()\n",
    "\n",
    "    d.join()\n",
    "    w.join()\n",
    "    # it should print 200 but it does not\n",
    "    print(\"After transactions: \", balance.value)\n",
    "\n",
    "if __name__ == '__main__':\n",
    "    problem()\n",
    "    solution()"
   ]
  },
  {
   "cell_type": "code",
   "execution_count": null,
   "metadata": {},
   "outputs": [],
   "source": []
  }
 ],
 "metadata": {
  "kernelspec": {
   "display_name": "Python 3",
   "language": "python",
   "name": "python3"
  },
  "language_info": {
   "codemirror_mode": {
    "name": "ipython",
    "version": 3
   },
   "file_extension": ".py",
   "mimetype": "text/x-python",
   "name": "python",
   "nbconvert_exporter": "python",
   "pygments_lexer": "ipython3",
   "version": "3.6.6"
  }
 },
 "nbformat": 4,
 "nbformat_minor": 2
}
